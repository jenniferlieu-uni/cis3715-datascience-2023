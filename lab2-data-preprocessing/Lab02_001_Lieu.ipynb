{
  "cells": [
    {
      "cell_type": "markdown",
      "metadata": {
        "id": "CAEdFIlsWJVy"
      },
      "source": [
        "# Lab 2: Data Preprocessing"
      ]
    },
    {
      "cell_type": "markdown",
      "metadata": {
        "id": "tIBUSyxoWJV1"
      },
      "source": [
        "In this assignment, we will learn how to explore the raw data and preprocess it. \n",
        "\n",
        "The dataset we are going to exlore is an insurance data. It provides different features of each user as follows:\n",
        "* age: age of the user\n",
        "* sex: gender of the user\n",
        "* bmi: body mass index, providing an understanding of body\n",
        "* children: number of children covered by health insurance / number of dependents\n",
        "* smoker: smoker or not\n",
        "* region: the user's residential area in the US, northeast, southeast, southwest, northwest.\n",
        "\n",
        "Additionally, the medical cost of each user is also provided: \n",
        "* charges: the medical cost \n",
        "\n",
        "Please follow Lecture 5_data_understanding and Lecture 6_data_preprocessing to complete following questions. "
      ]
    },
    {
      "cell_type": "markdown",
      "metadata": {
        "id": "COVM825BWJV2"
      },
      "source": [
        "### Q1. Load data with Pandas and output the basic information of this dataset, such as the features and their data types.  Which features are numerical features and which users are categorical features?"
      ]
    },
    {
      "cell_type": "code",
      "execution_count": 135,
      "metadata": {
        "colab": {
          "base_uri": "https://localhost:8080/"
        },
        "id": "mXgeMX9oWJV2",
        "outputId": "87b533b1-4800-4a48-82f5-055d39cd4463"
      },
      "outputs": [
        {
          "output_type": "stream",
          "name": "stdout",
          "text": [
            "<class 'pandas.core.frame.DataFrame'>\n",
            "RangeIndex: 1338 entries, 0 to 1337\n",
            "Data columns (total 7 columns):\n",
            " #   Column    Non-Null Count  Dtype  \n",
            "---  ------    --------------  -----  \n",
            " 0   age       1338 non-null   int64  \n",
            " 1   sex       1338 non-null   object \n",
            " 2   bmi       1338 non-null   float64\n",
            " 3   children  1338 non-null   int64  \n",
            " 4   smoker    1338 non-null   object \n",
            " 5   region    1338 non-null   object \n",
            " 6   charges   1338 non-null   float64\n",
            "dtypes: float64(2), int64(2), object(3)\n",
            "memory usage: 73.3+ KB\n"
          ]
        }
      ],
      "source": [
        "# your code\n",
        "import numpy as np\n",
        "import pandas as pd\n",
        "import matplotlib.pyplot as plt\n",
        "from sklearn.preprocessing import LabelEncoder, OneHotEncoder\n",
        "\n",
        "# load data with pandas\n",
        "url = 'https://github.com/cisdatasciencetu/CIS3715_DataScience_2023/raw/main/Lab02/insurance.csv'\n",
        "df = pd.read_csv(url)\n",
        "dfCopy = pd.read_csv(url)\n",
        "\n",
        "# print information about dataset\n",
        "df.info()"
      ]
    },
    {
      "cell_type": "markdown",
      "metadata": {
        "id": "70LVcLTtWJV4"
      },
      "source": [
        "### Analaysis:\n",
        "There are 4 numerical features: age, bmi, children, and charges.\n",
        "\n",
        "There are 3 categorial features: sex, smoker, and regions."
      ]
    },
    {
      "cell_type": "markdown",
      "metadata": {
        "id": "vTAISkfyWJV4"
      },
      "source": [
        "### Q2. Check whether there are missing values in this dataset."
      ]
    },
    {
      "cell_type": "code",
      "execution_count": 136,
      "metadata": {
        "colab": {
          "base_uri": "https://localhost:8080/"
        },
        "id": "HNIK0F4oWJV4",
        "outputId": "76ffe77c-eec4-4e6d-debd-1670b5ea075e"
      },
      "outputs": [
        {
          "output_type": "execute_result",
          "data": {
            "text/plain": [
              "age         0\n",
              "sex         0\n",
              "bmi         0\n",
              "children    0\n",
              "smoker      0\n",
              "region      0\n",
              "charges     0\n",
              "dtype: int64"
            ]
          },
          "metadata": {},
          "execution_count": 136
        }
      ],
      "source": [
        "# your code\n",
        "\n",
        "df.isnull().sum()"
      ]
    },
    {
      "cell_type": "markdown",
      "metadata": {
        "id": "G2ArjvByWJV5"
      },
      "source": [
        "### Q3. Visualize all numerical features with histogram plot to see the distribution of each numerical feature. \n"
      ]
    },
    {
      "cell_type": "code",
      "execution_count": 137,
      "metadata": {
        "colab": {
          "base_uri": "https://localhost:8080/",
          "height": 281
        },
        "id": "SBQE6X3_WJV6",
        "outputId": "645d9b1a-2c8d-4321-8e3c-c13f7f75abc0"
      },
      "outputs": [
        {
          "output_type": "display_data",
          "data": {
            "text/plain": [
              "<Figure size 432x288 with 4 Axes>"
            ],
            "image/png": "[encoded data removed]"
          },
          "metadata": {
            "needs_background": "light"
          }
        }
      ],
      "source": [
        "# your code\n",
        "\n",
        "df.hist()\n",
        "plt.show()"
      ]
    },
    {
      "cell_type": "markdown",
      "metadata": {
        "id": "-A5sGvqAWJV6"
      },
      "source": [
        "### Q4. Use corr() function of Pandas to show the correlation between different numerical features"
      ]
    },
    {
      "cell_type": "code",
      "execution_count": 138,
      "metadata": {
        "colab": {
          "base_uri": "https://localhost:8080/",
          "height": 175
        },
        "id": "jfr6BaStWJV7",
        "outputId": "09f05695-b647-4dd4-e3de-381dcd4cd352"
      },
      "outputs": [
        {
          "output_type": "execute_result",
          "data": {
            "text/plain": [
              "<pandas.io.formats.style.Styler at 0x7f4eb0c576a0>"
            ],
            "text/html": [
              "<style type=\"text/css\">\n",
              "#T_000d9_row0_col0, #T_000d9_row1_col1, #T_000d9_row2_col2, #T_000d9_row3_col3 {\n",
              "  background-color: #023858;\n",
              "  color: #f1f1f1;\n",
              "}\n",
              "#T_000d9_row0_col1 {\n",
              "  background-color: #f0eaf4;\n",
              "  color: #000000;\n",
              "}\n",
              "#T_000d9_row0_col2 {\n",
              "  background-color: #fbf3f9;\n",
              "  color: #000000;\n",
              "}\n",
              "#T_000d9_row0_col3 {\n",
              "  background-color: #d1d2e6;\n",
              "  color: #000000;\n",
              "}\n",
              "#T_000d9_row1_col0 {\n",
              "  background-color: #f5eef6;\n",
              "  color: #000000;\n",
              "}\n",
              "#T_000d9_row1_col2, #T_000d9_row2_col0, #T_000d9_row2_col1, #T_000d9_row2_col3 {\n",
              "  background-color: #fff7fb;\n",
              "  color: #000000;\n",
              "}\n",
              "#T_000d9_row1_col3 {\n",
              "  background-color: #e9e5f1;\n",
              "  color: #000000;\n",
              "}\n",
              "#T_000d9_row3_col0 {\n",
              "  background-color: #cacee5;\n",
              "  color: #000000;\n",
              "}\n",
              "#T_000d9_row3_col1 {\n",
              "  background-color: #dedcec;\n",
              "  color: #000000;\n",
              "}\n",
              "#T_000d9_row3_col2 {\n",
              "  background-color: #f7f0f7;\n",
              "  color: #000000;\n",
              "}\n",
              "</style>\n",
              "<table id=\"T_000d9_\" class=\"dataframe\">\n",
              "  <thead>\n",
              "    <tr>\n",
              "      <th class=\"blank level0\" >&nbsp;</th>\n",
              "      <th class=\"col_heading level0 col0\" >age</th>\n",
              "      <th class=\"col_heading level0 col1\" >bmi</th>\n",
              "      <th class=\"col_heading level0 col2\" >children</th>\n",
              "      <th class=\"col_heading level0 col3\" >charges</th>\n",
              "    </tr>\n",
              "  </thead>\n",
              "  <tbody>\n",
              "    <tr>\n",
              "      <th id=\"T_000d9_level0_row0\" class=\"row_heading level0 row0\" >age</th>\n",
              "      <td id=\"T_000d9_row0_col0\" class=\"data row0 col0\" >1.000000</td>\n",
              "      <td id=\"T_000d9_row0_col1\" class=\"data row0 col1\" >0.109272</td>\n",
              "      <td id=\"T_000d9_row0_col2\" class=\"data row0 col2\" >0.042469</td>\n",
              "      <td id=\"T_000d9_row0_col3\" class=\"data row0 col3\" >0.299008</td>\n",
              "    </tr>\n",
              "    <tr>\n",
              "      <th id=\"T_000d9_level0_row1\" class=\"row_heading level0 row1\" >bmi</th>\n",
              "      <td id=\"T_000d9_row1_col0\" class=\"data row1 col0\" >0.109272</td>\n",
              "      <td id=\"T_000d9_row1_col1\" class=\"data row1 col1\" >1.000000</td>\n",
              "      <td id=\"T_000d9_row1_col2\" class=\"data row1 col2\" >0.012759</td>\n",
              "      <td id=\"T_000d9_row1_col3\" class=\"data row1 col3\" >0.198341</td>\n",
              "    </tr>\n",
              "    <tr>\n",
              "      <th id=\"T_000d9_level0_row2\" class=\"row_heading level0 row2\" >children</th>\n",
              "      <td id=\"T_000d9_row2_col0\" class=\"data row2 col0\" >0.042469</td>\n",
              "      <td id=\"T_000d9_row2_col1\" class=\"data row2 col1\" >0.012759</td>\n",
              "      <td id=\"T_000d9_row2_col2\" class=\"data row2 col2\" >1.000000</td>\n",
              "      <td id=\"T_000d9_row2_col3\" class=\"data row2 col3\" >0.067998</td>\n",
              "    </tr>\n",
              "    <tr>\n",
              "      <th id=\"T_000d9_level0_row3\" class=\"row_heading level0 row3\" >charges</th>\n",
              "      <td id=\"T_000d9_row3_col0\" class=\"data row3 col0\" >0.299008</td>\n",
              "      <td id=\"T_000d9_row3_col1\" class=\"data row3 col1\" >0.198341</td>\n",
              "      <td id=\"T_000d9_row3_col2\" class=\"data row3 col2\" >0.067998</td>\n",
              "      <td id=\"T_000d9_row3_col3\" class=\"data row3 col3\" >1.000000</td>\n",
              "    </tr>\n",
              "  </tbody>\n",
              "</table>\n"
            ]
          },
          "metadata": {},
          "execution_count": 138
        }
      ],
      "source": [
        "# your code\n",
        "\n",
        "hcorr = df.corr()\n",
        "hcorr.style.background_gradient()"
      ]
    },
    {
      "cell_type": "markdown",
      "metadata": {
        "id": "W6qWENT0WJV7"
      },
      "source": [
        "### Q5. For all categorical features, use bar plot to visualize the number of users within each category."
      ]
    },
    {
      "cell_type": "code",
      "execution_count": 139,
      "metadata": {
        "colab": {
          "base_uri": "https://localhost:8080/",
          "height": 884
        },
        "id": "3YbZ_TrNWJV7",
        "outputId": "6dcad2dd-b7cd-4662-c2d5-f06079dfde1f"
      },
      "outputs": [
        {
          "output_type": "display_data",
          "data": {
            "text/plain": [
              "<Figure size 432x288 with 1 Axes>"
            ],
            "image/png": "[encoded data removed]"
          },
          "metadata": {
            "needs_background": "light"
          }
        },
        {
          "output_type": "display_data",
          "data": {
            "text/plain": [
              "<Figure size 432x288 with 1 Axes>"
            ],
            "image/png": "[encoded data removed]"
          },
          "metadata": {
            "needs_background": "light"
          }
        },
        {
          "output_type": "display_data",
          "data": {
            "text/plain": [
              "<Figure size 432x288 with 1 Axes>"
            ],
            "image/png": "[encoded data removed]"
          },
          "metadata": {
            "needs_background": "light"
          }
        }
      ],
      "source": [
        "# your code\n",
        "\n",
        "# bar plot for 'sex' feature\n",
        "df['sex'].value_counts().plot(kind = 'bar')\n",
        "plt.title('Sex')\n",
        "plt.show()\n",
        "\n",
        "# bar plot for 'smoker' feature\n",
        "df['smoker'].value_counts().plot(kind = 'bar')\n",
        "plt.title('Smoker')\n",
        "plt.show()\n",
        "\n",
        "# bar plot for 'region' feature\n",
        "df['region'].value_counts().plot(kind = 'bar')\n",
        "plt.title('Region')\n",
        "plt.show()"
      ]
    },
    {
      "cell_type": "markdown",
      "metadata": {
        "id": "8xzG_UAtWJV8"
      },
      "source": [
        "### Q6. Convert all categorical features into numerical features with Label Encoding or One-Hot Encoding"
      ]
    },
    {
      "cell_type": "markdown",
      "metadata": {
        "id": "4BNdxUU9WJV8"
      },
      "source": [
        "### Q7. Normalize all numerical features"
      ]
    },
    {
      "cell_type": "code",
      "execution_count": 140,
      "metadata": {
        "scrolled": true,
        "colab": {
          "base_uri": "https://localhost:8080/"
        },
        "id": "ENO3fMBhWJV8",
        "outputId": "c3a86137-0511-4660-b5da-8c0a07adc670"
      },
      "outputs": [
        {
          "output_type": "stream",
          "name": "stdout",
          "text": [
            "Convert 'sex' feature into a numerical feature using label encoding:\n",
            "male      676\n",
            "female    662\n",
            "Name: sex, dtype: int64\n",
            "\n",
            "1    676\n",
            "0    662\n",
            "Name: sex, dtype: int64\n",
            "\n",
            "Convert 'smoker' feature into a numerical feature using label encoding:\n",
            "no     1064\n",
            "yes     274\n",
            "Name: smoker, dtype: int64\n",
            "\n",
            "0    1064\n",
            "1     274\n",
            "Name: smoker, dtype: int64\n"
          ]
        }
      ],
      "source": [
        "# your code\n",
        "\n",
        "labelEncoder = LabelEncoder()\n",
        "\n",
        "# convert 'sex' feature into a numerical feature - label encoding\n",
        "print('Convert \\'sex\\' feature into a numerical feature using label encoding:')\n",
        "print(df['sex'].value_counts())\n",
        "dfCopy['sex'] = labelEncoder.fit_transform(dfCopy['sex'])\n",
        "print('\\n{}'.format(dfCopy['sex'].value_counts()))\n",
        "\n",
        "# convert 'smoker' feature into a numerical feature - label encoding\n",
        "print('\\nConvert \\'smoker\\' feature into a numerical feature using label encoding:')\n",
        "print(df['smoker'].value_counts())\n",
        "dfCopy['smoker'] = labelEncoder.fit_transform(dfCopy['smoker'])\n",
        "print('\\n{}'.format(dfCopy['smoker'].value_counts()))"
      ]
    },
    {
      "cell_type": "code",
      "execution_count": 141,
      "metadata": {
        "scrolled": true,
        "colab": {
          "base_uri": "https://localhost:8080/"
        },
        "id": "2EIgndMHWJV8",
        "outputId": "ab09bd28-ad46-49e4-9646-fc1a59f13089"
      },
      "outputs": [
        {
          "output_type": "stream",
          "name": "stdout",
          "text": [
            "Convert 'region' feature into a numerical feature using one-hot encoding:\n",
            "southeast    364\n",
            "southwest    325\n",
            "northwest    325\n",
            "northeast    324\n",
            "Name: region, dtype: int64\n",
            "      region_northeast  region_northwest  region_southeast  region_southwest\n",
            "0                  0.0               0.0               0.0               1.0\n",
            "1                  0.0               0.0               1.0               0.0\n",
            "2                  0.0               0.0               1.0               0.0\n",
            "3                  0.0               1.0               0.0               0.0\n",
            "4                  0.0               1.0               0.0               0.0\n",
            "...                ...               ...               ...               ...\n",
            "1333               0.0               1.0               0.0               0.0\n",
            "1334               1.0               0.0               0.0               0.0\n",
            "1335               0.0               0.0               1.0               0.0\n",
            "1336               0.0               0.0               0.0               1.0\n",
            "1337               0.0               1.0               0.0               0.0\n",
            "\n",
            "[1338 rows x 4 columns]\n"
          ]
        }
      ],
      "source": [
        "# your code\n",
        "\n",
        "oneHotEncoder = OneHotEncoder(sparse=False)\n",
        "\n",
        "# convert 'region' feature into a numerical feature - one-hot encoding\n",
        "print('Convert \\'region\\' feature into a numerical feature using one-hot encoding:')\n",
        "print(df['region'].value_counts())\n",
        "result = oneHotEncoder.fit_transform(dfCopy[['region']])\n",
        "regionDf = pd.DataFrame(result, columns=oneHotEncoder.get_feature_names_out())\n",
        "print(regionDf)"
      ]
    },
    {
      "cell_type": "markdown",
      "metadata": {
        "id": "iu95aimLWJV9"
      },
      "source": [
        "### Q8. Save your preprocessed data into a csv file. Submit your code and the preprocessed data."
      ]
    },
    {
      "cell_type": "code",
      "execution_count": 142,
      "metadata": {
        "colab": {
          "base_uri": "https://localhost:8080/",
          "height": 485
        },
        "id": "e_k89V-jWJV9",
        "outputId": "0ed72f29-ab1c-414d-b393-a654e5335f27"
      },
      "outputs": [
        {
          "output_type": "stream",
          "name": "stdout",
          "text": [
            "      age     bmi  children      charges  sex  smoker  region_northeast  \\\n",
            "0      19  27.900         0  16884.92400    0       1               0.0   \n",
            "1      18  33.770         1   1725.55230    1       0               0.0   \n",
            "2      28  33.000         3   4449.46200    1       0               0.0   \n",
            "3      33  22.705         0  21984.47061    1       0               0.0   \n",
            "4      32  28.880         0   3866.85520    1       0               0.0   \n",
            "...   ...     ...       ...          ...  ...     ...               ...   \n",
            "1333   50  30.970         3  10600.54830    1       0               0.0   \n",
            "1334   18  31.920         0   2205.98080    0       0               1.0   \n",
            "1335   18  36.850         0   1629.83350    0       0               0.0   \n",
            "1336   21  25.800         0   2007.94500    0       0               0.0   \n",
            "1337   61  29.070         0  29141.36030    0       1               0.0   \n",
            "\n",
            "      region_northwest  region_southeast  region_southwest  \n",
            "0                  0.0               0.0               1.0  \n",
            "1                  0.0               1.0               0.0  \n",
            "2                  0.0               1.0               0.0  \n",
            "3                  1.0               0.0               0.0  \n",
            "4                  1.0               0.0               0.0  \n",
            "...                ...               ...               ...  \n",
            "1333               1.0               0.0               0.0  \n",
            "1334               0.0               0.0               0.0  \n",
            "1335               0.0               1.0               0.0  \n",
            "1336               0.0               0.0               1.0  \n",
            "1337               1.0               0.0               0.0  \n",
            "\n",
            "[1338 rows x 10 columns]\n"
          ]
        },
        {
          "output_type": "display_data",
          "data": {
            "text/plain": [
              "<IPython.core.display.Javascript object>"
            ],
            "application/javascript": [
              "\n",
              "    async function download(id, filename, size) {\n",
              "      if (!google.colab.kernel.accessAllowed) {\n",
              "        return;\n",
              "      }\n",
              "      const div = document.createElement('div');\n",
              "      const label = document.createElement('label');\n",
              "      label.textContent = `Downloading \"${filename}\": `;\n",
              "      div.appendChild(label);\n",
              "      const progress = document.createElement('progress');\n",
              "      progress.max = size;\n",
              "      div.appendChild(progress);\n",
              "      document.body.appendChild(div);\n",
              "\n",
              "      const buffers = [];\n",
              "      let downloaded = 0;\n",
              "\n",
              "      const channel = await google.colab.kernel.comms.open(id);\n",
              "      // Send a message to notify the kernel that we're ready.\n",
              "      channel.send({})\n",
              "\n",
              "      for await (const message of channel.messages) {\n",
              "        // Send a message to notify the kernel that we're ready.\n",
              "        channel.send({})\n",
              "        if (message.buffers) {\n",
              "          for (const buffer of message.buffers) {\n",
              "            buffers.push(buffer);\n",
              "            downloaded += buffer.byteLength;\n",
              "            progress.value = downloaded;\n",
              "          }\n",
              "        }\n",
              "      }\n",
              "      const blob = new Blob(buffers, {type: 'application/binary'});\n",
              "      const a = document.createElement('a');\n",
              "      a.href = window.URL.createObjectURL(blob);\n",
              "      a.download = filename;\n",
              "      div.appendChild(a);\n",
              "      a.click();\n",
              "      div.remove();\n",
              "    }\n",
              "  "
            ]
          },
          "metadata": {}
        },
        {
          "output_type": "display_data",
          "data": {
            "text/plain": [
              "<IPython.core.display.Javascript object>"
            ],
            "application/javascript": [
              "download(\"download_2d6dc57f-a876-448e-9fc7-d680ffa56369\", \"output.csv\", 61074)"
            ]
          },
          "metadata": {}
        }
      ],
      "source": [
        "# delete all the categorial features\n",
        "df = df.drop('sex', axis=1)\n",
        "df = df.drop('smoker', axis=1)\n",
        "df = df.drop('region', axis=1)\n",
        "\n",
        "# add the converted numerical features back into the dataframe\n",
        "df = pd.concat([df, dfCopy['sex'], dfCopy['smoker'], regionDf], axis=1)\n",
        "print(df)\n",
        "\n",
        "# save the preprocessed data into a new csv file\n",
        "# from google.colab import files\n",
        "# df.to_csv('output.csv', encoding = 'utf-8-sig') \n",
        "# files.download('output.csv')"
      ]
    }
  ],
  "metadata": {
    "kernelspec": {
      "display_name": "Python 3",
      "language": "python",
      "name": "python3"
    },
    "language_info": {
      "codemirror_mode": {
        "name": "ipython",
        "version": 3
      },
      "file_extension": ".py",
      "mimetype": "text/x-python",
      "name": "python",
      "nbconvert_exporter": "python",
      "pygments_lexer": "ipython3",
      "version": "3.6.5"
    },
    "colab": {
      "provenance": []
    }
  },
  "nbformat": 4,
  "nbformat_minor": 0
}